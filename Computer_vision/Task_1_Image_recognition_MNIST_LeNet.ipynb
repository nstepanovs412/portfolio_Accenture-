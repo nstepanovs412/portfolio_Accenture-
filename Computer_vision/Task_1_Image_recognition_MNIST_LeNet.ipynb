{
  
  "nbformat": 4,
  "nbformat_minor": 0,
  "metadata": {
    "colab": {
      "name": "Image_recognition_MNIST_LeNet.ipynb",
      "provenance": [],
      "collapsed_sections": []
    },
    "kernelspec": {
      "name": "python3",
      "display_name": "Python 3"
    },
    "language_info": {
      "name": "python"
    }
  },
  "cells": [
    {
      "cell_type": "markdown",
      "source": [
        "Use MNIST dataset to build LeNet model with dropout\n",
        "Draw graphs for model accuracy and model loss\n",
        "Show how to reshape the dataset and one hot encode it "
      ],
      "metadata": {
        "id": "EvPRi2gpgexV"
      }
    },
    {
      "cell_type": "code",
      "source": [
        "from keras import backend as K\n",
        "from keras.models import Sequential \n",
        "from keras.layers import Dense , Dropout ,Flatten, Conv2D, MaxPooling2D, Activation\n",
        "from keras.datasets import mnist \n",
        "from keras.utils import np_utils\n",
        "from tensorflow.keras.optimizers import SGD, RMSprop, Adam\n",
        "import numpy as np\n",
        "import matplotlib.pyplot as plt"
      ],
      "metadata": {
        "id": "O9tgjNxhNeTf"
      },
      "execution_count": null,
      "outputs": []
    },
    {
      "cell_type": "markdown",
      "source": [
        "Defining LeNet"
      ],
      "metadata": {
        "id": "Idjr8gZqQcyZ"
      }
    },
    {
      "cell_type": "markdown",
      "source": [
        "First layer is convolutional with activational function ReLU, then max pooling is added\n"
      ],
      "metadata": {
        "id": "tw6MPwNeQ8Ix"
      }
    },
    {
      "cell_type": "code",
      "source": [
        "class LeNet:\n",
        "\t@staticmethod\n",
        "\tdef build(input_shape, classes):\n",
        "\t\tmodel = Sequential()\n",
        "\t\t# CONV => RELU => POOL\n",
        "\t\tmodel.add(Conv2D(20, kernel_size=5, padding=\"same\",\n",
        "\t\t\tinput_shape=input_shape))\n",
        "\t\tmodel.add(Activation(\"relu\"))\n",
        "\t\tmodel.add(MaxPooling2D(pool_size=(2, 2), strides=(2, 2)))\n",
        "\t\t# CONV => RELU => POOL\n",
        "\t\tmodel.add(Conv2D(50, kernel_size=5, padding=\"same\"))\n",
        "\t\tmodel.add(Activation(\"relu\"))\n",
        "\t\tmodel.add(MaxPooling2D(pool_size=(2, 2), strides=(2, 2)))\n",
        "\t\t# Flatten => RELU layers\n",
        "\t\tmodel.add(Flatten())\n",
        "\t\tmodel.add(Dense(500))\n",
        "\t\tmodel.add(Dropout(0.3))\n",
        "\t\tmodel.add(Activation(\"relu\"))\n",
        " \n",
        "\t\t# a softmax classifier\n",
        "\t\tmodel.add(Dense(classes))\n",
        "\t\tmodel.add(Activation(\"softmax\"))\n",
        "\n",
        "\t\treturn model"
      ],
      "metadata": {
        "id": "RWRUY_epSXv1"
      },
      "execution_count": null,
      "outputs": []
    },
    {
      "cell_type": "code",
      "source": [
        "#Defining training\n",
        "NB_EPOCH = 20\n",
        "BATCH_SIZE = 128\n",
        "VERBOSE = 1\n",
        "OPTIMIZER = Adam()\n",
        "VALIDATION_SPLIT=0.2\n",
        "\n",
        "IMG_ROWS, IMG_COLS = 28, 28 # input image dimensions\n",
        "NB_CLASSES = 10  # number of outputs = number of digits\n",
        "INPUT_SHAPE = (IMG_ROWS, IMG_COLS, 1)"
      ],
      "metadata": {
        "id": "e1L9Clc6Wh83"
      },
      "execution_count": null,
      "outputs": []
    },
    {
      "cell_type": "code",
      "source": [
        "#train test split\n",
        "(X_train, y_train), (X_test, y_test) = mnist.load_data()"
      ],
      "metadata": {
        "id": "EdKaPia-XcUy"
      },
      "execution_count": null,
      "outputs": []
    },
    {
      "cell_type": "code",
      "source": [
        "X_train = X_train.astype('float32')\n",
        "X_test = X_test.astype('float32')\n",
        "X_train /= 255 \n",
        "X_test /= 255  \n",
        "# reshaping the dataset\n",
        "# Reshape image in 3 dimensions (height = 28px, width = 28px , canal = 1)\n",
        "X_train = X_train.reshape(-1,28,28,1)\n",
        "X_test = X_test.reshape(-1,28,28,1)\n"
      ],
      "metadata": {
        "id": "GTVq3Pb_k22p"
      },
      "execution_count": null,
      "outputs": []
    },
    {
      "cell_type": "code",
      "source": [
        "#convert classes \n",
        "y_train = np_utils.to_categorical(y_train, NB_CLASSES)\n",
        "y_test = np_utils.to_categorical(y_test, NB_CLASSES)"
      ],
      "metadata": {
        "id": "KRSb8yOemkOg"
      },
      "execution_count": null,
      "outputs": []
    },
    {
      "cell_type": "code",
      "source": [
        "#intiate optimiser and model\n",
        "model = LeNet.build(input_shape=INPUT_SHAPE, classes=NB_CLASSES)\n",
        "model.compile(loss=\"categorical_crossentropy\", optimizer=OPTIMIZER,\n",
        "\tmetrics=[\"accuracy\"])\n",
        "\n",
        "history = model.fit(X_train, y_train, \n",
        "\t\tbatch_size=BATCH_SIZE, epochs=NB_EPOCH, \n",
        "\t\tverbose=VERBOSE, validation_split=VALIDATION_SPLIT)\n",
        "\n",
        "score = model.evaluate(X_test, y_test, verbose=VERBOSE)\n",
        "print(\"\\nTest score:\", score[0])\n",
        "print('Test accuracy:', score[1])"
      ],
      "metadata": {
        "colab": {
          "base_uri": "https://localhost:8080/"
        },
        "id": "rHBo1-tfnMpc",
        "outputId": "d0446c55-fe41-484b-ea6f-d23f9cc3fb62"
      },
      "execution_count": null,
      "outputs": [
        {
          "output_type": "stream",
          "name": "stdout",
          "text": [
            "Epoch 1/20\n",
            "375/375 [==============================] - 94s 250ms/step - loss: 0.1947 - accuracy: 0.9414 - val_loss: 0.0515 - val_accuracy: 0.9834\n",
            "Epoch 2/20\n",
            "375/375 [==============================] - 89s 237ms/step - loss: 0.0516 - accuracy: 0.9842 - val_loss: 0.0411 - val_accuracy: 0.9882\n",
            "Epoch 3/20\n",
            "375/375 [==============================] - 88s 234ms/step - loss: 0.0354 - accuracy: 0.9894 - val_loss: 0.0354 - val_accuracy: 0.9895\n",
            "Epoch 4/20\n",
            "375/375 [==============================] - 88s 233ms/step - loss: 0.0278 - accuracy: 0.9911 - val_loss: 0.0318 - val_accuracy: 0.9910\n",
            "Epoch 5/20\n",
            "375/375 [==============================] - 87s 233ms/step - loss: 0.0232 - accuracy: 0.9924 - val_loss: 0.0407 - val_accuracy: 0.9892\n",
            "Epoch 6/20\n",
            "375/375 [==============================] - 87s 232ms/step - loss: 0.0169 - accuracy: 0.9946 - val_loss: 0.0359 - val_accuracy: 0.9906\n",
            "Epoch 7/20\n",
            "375/375 [==============================] - 87s 233ms/step - loss: 0.0129 - accuracy: 0.9957 - val_loss: 0.0301 - val_accuracy: 0.9917\n",
            "Epoch 8/20\n",
            "375/375 [==============================] - 87s 232ms/step - loss: 0.0123 - accuracy: 0.9959 - val_loss: 0.0348 - val_accuracy: 0.9912\n",
            "Epoch 9/20\n",
            "375/375 [==============================] - 86s 230ms/step - loss: 0.0102 - accuracy: 0.9965 - val_loss: 0.0520 - val_accuracy: 0.9858\n",
            "Epoch 10/20\n",
            "375/375 [==============================] - 86s 230ms/step - loss: 0.0091 - accuracy: 0.9970 - val_loss: 0.0311 - val_accuracy: 0.9929\n",
            "Epoch 11/20\n",
            "375/375 [==============================] - 86s 229ms/step - loss: 0.0076 - accuracy: 0.9975 - val_loss: 0.0380 - val_accuracy: 0.9918\n",
            "Epoch 12/20\n",
            "375/375 [==============================] - 88s 236ms/step - loss: 0.0084 - accuracy: 0.9969 - val_loss: 0.0380 - val_accuracy: 0.9927\n",
            "Epoch 13/20\n",
            "375/375 [==============================] - 87s 231ms/step - loss: 0.0058 - accuracy: 0.9979 - val_loss: 0.0373 - val_accuracy: 0.9929\n",
            "Epoch 14/20\n",
            "375/375 [==============================] - 87s 232ms/step - loss: 0.0065 - accuracy: 0.9980 - val_loss: 0.0512 - val_accuracy: 0.9890\n",
            "Epoch 15/20\n",
            "375/375 [==============================] - 87s 231ms/step - loss: 0.0058 - accuracy: 0.9980 - val_loss: 0.0364 - val_accuracy: 0.9920\n",
            "Epoch 16/20\n",
            "375/375 [==============================] - 87s 232ms/step - loss: 0.0046 - accuracy: 0.9985 - val_loss: 0.0344 - val_accuracy: 0.9924\n",
            "Epoch 17/20\n",
            "375/375 [==============================] - 87s 232ms/step - loss: 0.0059 - accuracy: 0.9980 - val_loss: 0.0418 - val_accuracy: 0.9918\n",
            "Epoch 18/20\n",
            "375/375 [==============================] - 87s 231ms/step - loss: 0.0062 - accuracy: 0.9979 - val_loss: 0.0393 - val_accuracy: 0.9908\n",
            "Epoch 19/20\n",
            "375/375 [==============================] - 88s 234ms/step - loss: 0.0038 - accuracy: 0.9988 - val_loss: 0.0426 - val_accuracy: 0.9912\n",
            "Epoch 20/20\n",
            "375/375 [==============================] - 86s 229ms/step - loss: 0.0061 - accuracy: 0.9979 - val_loss: 0.0360 - val_accuracy: 0.9918\n",
            "313/313 [==============================] - 6s 20ms/step - loss: 0.0294 - accuracy: 0.9934\n",
            "\n",
            "Test score: 0.029409872367978096\n",
            "Test accuracy: 0.993399977684021\n"
          ]
        }
      ]
    },
    {
      "cell_type": "code",
      "source": [
        "# list all data in history\n",
        "print(history.history.keys())"
      ],
      "metadata": {
        "colab": {
          "base_uri": "https://localhost:8080/"
        },
        "id": "cXFtjHF_gNx1",
        "outputId": "94b43a27-995f-4615-a43d-5d9b5dd3b753"
      },
      "execution_count": null,
      "outputs": [
        {
          "output_type": "stream",
          "name": "stdout",
          "text": [
            "dict_keys(['loss', 'accuracy', 'val_loss', 'val_accuracy'])\n"
          ]
        }
      ]
    },
    {
      "cell_type": "code",
      "source": [
        "# summarize history for accuracy\n",
        "plt.plot(history.history['accuracy'])\n",
        "plt.plot(history.history['val_loss'])\n",
        "plt.title('model accuracy')\n",
        "plt.ylabel('accuracy')\n",
        "plt.xlabel('epoch')\n",
        "plt.legend(['train', 'test'], loc='upper left')\n",
        "plt.show()"
      ],
      "metadata": {
        "colab": {
          "base_uri": "https://localhost:8080/",
          "height": 295
        },
        "id": "Hga5bxDegBBm",
        "outputId": "c77c6fee-1da6-4e11-efb7-d0543f9951e3"
      },
      "execution_count": null,
      "outputs": [
        {
          "output_type": "display_data",
          "data": {
            "image/png": "[encoded data removed]",
            "text/plain": [
              "<Figure size 432x288 with 1 Axes>"
            ]
          },
          "metadata": {
            "needs_background": "light"
          }
        }
      ]
    },
    {
      "cell_type": "code",
      "source": [
        "# summarize history for loss\n",
        "plt.plot(history.history['loss'])\n",
        "plt.plot(history.history['val_loss'])\n",
        "plt.title('model loss')\n",
        "plt.ylabel('loss')\n",
        "plt.xlabel('epoch')\n",
        "plt.legend(['train', 'test'], loc='upper left')\n",
        "plt.show()"
      ],
      "metadata": {
        "colab": {
          "base_uri": "https://localhost:8080/",
          "height": 295
        },
        "id": "aq7HS2wngY53",
        "outputId": "8e18146f-7d1f-4702-bdc6-aad1caf86128"
      },
      "execution_count": null,
      "outputs": [
        {
          "output_type": "display_data",
          "data": {
            "image/png": "[encoded data removed]",
            "text/plain": [
              "<Figure size 432x288 with 1 Axes>"
            ]
          },
          "metadata": {
            "needs_background": "light"
          }
        }
      ]
    }
  ]
}
