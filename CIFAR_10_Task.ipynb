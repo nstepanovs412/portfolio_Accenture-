{
 "cells": [
  {
   "cell_type": "markdown",
   "metadata": {
    "id": "r1lI5gIsW7o4"
   },
   "source": [
    "# Task 2 \n",
    "\n",
    "\n",
    "*   Import CIFAR-10 \n",
    "*   Standartise CIFAR-10 \n",
    "\n",
    "\n",
    "*   Build CNN with 1 convolution\n",
    "\n",
    "\n",
    "*   Save network as json \n",
    "\n",
    "\n",
    "*   Draw metrics\n",
    "\n",
    "\n",
    "Once the above tasks are done improve network\n",
    "\n",
    "\n",
    "*   Add more convolutions\n",
    "\n",
    "Once the above tasks are done improve dataset\n",
    "\n",
    "\n",
    "*   Generate additional images \n",
    "*   Use augmentation methods \n",
    "\n",
    "\n",
    "\n",
    "\n",
    "\n",
    "\n",
    "\n"
   ]
  },
  {
   "cell_type": "code",
   "execution_count": 1,
   "metadata": {
    "id": "7L5cjEqwAoYs"
   },
   "outputs": [],
   "source": [
    "from keras.datasets import cifar10\n",
    "from keras.utils import np_utils\n",
    "from keras.models import Sequential\n",
    "from keras.layers.core import Dense, Dropout, Activation, Flatten\n",
    "from keras.layers.convolutional import Conv2D, MaxPooling2D\n",
    "from tensorflow.keras.optimizers import SGD, Adam, RMSprop\n",
    "import matplotlib.pyplot as plt"
   ]
  },
  {
   "cell_type": "code",
   "execution_count": 2,
   "metadata": {
    "id": "Q4IjII5EDD-N"
   },
   "outputs": [],
   "source": [
    "#ciar 10 contains 60K images 32x32 pixels\n",
    "IMG_CHANNELS = 3\n",
    "IMG_ROWS = 32\n",
    "IMG_COLS = 32"
   ]
  },
  {
   "cell_type": "code",
   "execution_count": 3,
   "metadata": {
    "id": "57wOSU2vDPAd"
   },
   "outputs": [],
   "source": [
    "#constants\n",
    "BATCH_SIZE = 128\n",
    "NB_EPOCH = 20\n",
    "NB_CLASSES = 10\n",
    "VERBOSE = 1\n",
    "VALIDATION_SPLIT = 0.2\n",
    "OPTIM = RMSprop()"
   ]
  },
  {
   "cell_type": "code",
   "execution_count": 28,
   "metadata": {
    "colab": {
     "base_uri": "https://localhost:8080/"
    },
    "id": "NZqldYdPD7EX",
    "outputId": "293a2a6a-c948-493e-dced-1bbd99484f3c"
   },
   "outputs": [
    {
     "name": "stdout",
     "output_type": "stream",
     "text": [
      "X_train shape: (50000, 32, 32, 3)\n",
      "50000 train_samples\n",
      "10000 test_samples\n"
     ]
    }
   ],
   "source": [
    "#loading dataset\n",
    "(X_train, y_train), (X_test, y_test) = cifar10.load_data()\n",
    "print('X_train shape:', X_train.shape)\n",
    "print(X_train.shape[0], 'train_samples')\n",
    "print(X_test.shape[0], 'test_samples')"
   ]
  },
  {
   "cell_type": "code",
   "execution_count": 29,
   "metadata": {
    "id": "p1BVyHVsFRF7"
   },
   "outputs": [],
   "source": [
    "#to categorical\n",
    "Y_train = np_utils.to_categorical(y_train, NB_CLASSES)\n",
    "Y_test = np_utils.to_categorical(y_test, NB_CLASSES)"
   ]
  },
  {
   "cell_type": "code",
   "execution_count": 30,
   "metadata": {
    "id": "ov4mggYkRm_y"
   },
   "outputs": [],
   "source": [
    "#convert to format with floating\n",
    "X_train = X_train.astype('float32')\n",
    "X_test = X_test.astype('float32')\n",
    "X_train /= 255\n",
    "X_test /= 255"
   ]
  },
  {
   "cell_type": "code",
   "execution_count": 7,
   "metadata": {
    "colab": {
     "base_uri": "https://localhost:8080/"
    },
    "id": "Gvtd_ek1SEpB",
    "outputId": "a52df400-2c6a-416f-fefa-25ac084d5191"
   },
   "outputs": [
    {
     "name": "stdout",
     "output_type": "stream",
     "text": [
      "Model: \"sequential\"\n",
      "_________________________________________________________________\n",
      "Layer (type)                 Output Shape              Param #   \n",
      "=================================================================\n",
      "conv2d (Conv2D)              (None, 32, 32, 32)        896       \n",
      "_________________________________________________________________\n",
      "activation (Activation)      (None, 32, 32, 32)        0         \n",
      "_________________________________________________________________\n",
      "max_pooling2d (MaxPooling2D) (None, 16, 16, 32)        0         \n",
      "_________________________________________________________________\n",
      "dropout (Dropout)            (None, 16, 16, 32)        0         \n",
      "_________________________________________________________________\n",
      "flatten (Flatten)            (None, 8192)              0         \n",
      "_________________________________________________________________\n",
      "dense (Dense)                (None, 512)               4194816   \n",
      "_________________________________________________________________\n",
      "activation_1 (Activation)    (None, 512)               0         \n",
      "_________________________________________________________________\n",
      "dropout_1 (Dropout)          (None, 512)               0         \n",
      "_________________________________________________________________\n",
      "dense_1 (Dense)              (None, 10)                5130      \n",
      "_________________________________________________________________\n",
      "activation_2 (Activation)    (None, 10)                0         \n",
      "=================================================================\n",
      "Total params: 4,200,842\n",
      "Trainable params: 4,200,842\n",
      "Non-trainable params: 0\n",
      "_________________________________________________________________\n"
     ]
    }
   ],
   "source": [
    "#network\n",
    "model = Sequential()\n",
    "model.add(Conv2D(32, (3,3), padding = 'same', \n",
    "input_shape = (IMG_ROWS, IMG_COLS, IMG_CHANNELS)))\n",
    "model.add(Activation('relu'))\n",
    "model.add(MaxPooling2D(pool_size = (2,2)))\n",
    "model.add(Dropout(0.25))\n",
    "model.add(Flatten())\n",
    "model.add(Dense(512))\n",
    "model.add(Activation('relu'))\n",
    "model.add(Dropout(0.5))\n",
    "model.add(Dense(NB_CLASSES))\n",
    "model.add(Activation('softmax'))\n",
    "model.summary()"
   ]
  },
  {
   "cell_type": "code",
   "execution_count": 8,
   "metadata": {
    "colab": {
     "base_uri": "https://localhost:8080/"
    },
    "id": "bWZGCyDqUoff",
    "outputId": "607d9df9-8d59-4372-c564-6eb65c411e8d"
   },
   "outputs": [
    {
     "name": "stdout",
     "output_type": "stream",
     "text": [
      "Epoch 1/20\n",
      "313/313 [==============================] - 20s 62ms/step - loss: 1.7052 - accuracy: 0.3945 - val_loss: 1.3672 - val_accuracy: 0.5206\n",
      "Epoch 2/20\n",
      "313/313 [==============================] - 19s 62ms/step - loss: 1.3584 - accuracy: 0.5185 - val_loss: 1.4023 - val_accuracy: 0.5114\n",
      "Epoch 3/20\n",
      "313/313 [==============================] - 19s 60ms/step - loss: 1.2261 - accuracy: 0.5684 - val_loss: 1.1995 - val_accuracy: 0.5859\n",
      "Epoch 4/20\n",
      "313/313 [==============================] - 19s 60ms/step - loss: 1.1378 - accuracy: 0.6011 - val_loss: 1.1165 - val_accuracy: 0.6142\n",
      "Epoch 5/20\n",
      "313/313 [==============================] - 19s 61ms/step - loss: 1.0613 - accuracy: 0.6285 - val_loss: 1.1792 - val_accuracy: 0.5978\n",
      "Epoch 6/20\n",
      "313/313 [==============================] - 19s 62ms/step - loss: 0.9930 - accuracy: 0.6519 - val_loss: 1.1027 - val_accuracy: 0.6112\n",
      "Epoch 7/20\n",
      "313/313 [==============================] - 19s 61ms/step - loss: 0.9379 - accuracy: 0.6733 - val_loss: 1.1072 - val_accuracy: 0.6177\n",
      "Epoch 8/20\n",
      "313/313 [==============================] - 19s 62ms/step - loss: 0.8919 - accuracy: 0.6885 - val_loss: 1.1044 - val_accuracy: 0.6281\n",
      "Epoch 9/20\n",
      "313/313 [==============================] - 19s 59ms/step - loss: 0.8503 - accuracy: 0.7033 - val_loss: 0.9928 - val_accuracy: 0.6613\n",
      "Epoch 10/20\n",
      "313/313 [==============================] - 18s 57ms/step - loss: 0.8075 - accuracy: 0.7185 - val_loss: 1.0739 - val_accuracy: 0.6415\n",
      "Epoch 11/20\n",
      "313/313 [==============================] - 18s 57ms/step - loss: 0.7713 - accuracy: 0.7321 - val_loss: 1.0213 - val_accuracy: 0.6555\n",
      "Epoch 12/20\n",
      "313/313 [==============================] - 17s 56ms/step - loss: 0.7322 - accuracy: 0.7471 - val_loss: 1.1111 - val_accuracy: 0.6433\n",
      "Epoch 13/20\n",
      "313/313 [==============================] - 18s 56ms/step - loss: 0.7023 - accuracy: 0.7566 - val_loss: 1.0085 - val_accuracy: 0.6678\n",
      "Epoch 14/20\n",
      "313/313 [==============================] - 18s 58ms/step - loss: 0.6748 - accuracy: 0.7681 - val_loss: 0.9918 - val_accuracy: 0.6834\n",
      "Epoch 15/20\n",
      "313/313 [==============================] - 18s 59ms/step - loss: 0.6421 - accuracy: 0.7770 - val_loss: 1.0166 - val_accuracy: 0.6696\n",
      "Epoch 16/20\n",
      "313/313 [==============================] - 19s 59ms/step - loss: 0.6199 - accuracy: 0.7859 - val_loss: 0.9889 - val_accuracy: 0.6820\n",
      "Epoch 17/20\n",
      "313/313 [==============================] - 19s 60ms/step - loss: 0.5978 - accuracy: 0.7940 - val_loss: 1.0550 - val_accuracy: 0.6642\n",
      "Epoch 18/20\n",
      "313/313 [==============================] - 19s 61ms/step - loss: 0.5745 - accuracy: 0.8002 - val_loss: 0.9895 - val_accuracy: 0.6842\n",
      "Epoch 19/20\n",
      "313/313 [==============================] - 19s 59ms/step - loss: 0.5541 - accuracy: 0.8104 - val_loss: 1.0280 - val_accuracy: 0.6866\n",
      "Epoch 20/20\n",
      "313/313 [==============================] - 19s 60ms/step - loss: 0.5428 - accuracy: 0.8143 - val_loss: 1.0929 - val_accuracy: 0.6778\n",
      "79/79 [==============================] - 1s 13ms/step - loss: 1.0975 - accuracy: 0.6755\n",
      "Test score: 1.0975092649459839\n",
      "Test accuracy: 0.6754999756813049\n"
     ]
    }
   ],
   "source": [
    "#training\n",
    "model.compile(loss = 'categorical_crossentropy', optimizer = OPTIM, metrics = ['accuracy'])\n",
    "history = model.fit(X_train, Y_train, batch_size = BATCH_SIZE, epochs=NB_EPOCH, validation_split = VALIDATION_SPLIT, verbose = VERBOSE)\n",
    "score = model.evaluate(X_test, Y_test, batch_size = BATCH_SIZE, verbose = VERBOSE)\n",
    "print(\"Test score:\", score[0])\n",
    "print(\"Test accuracy:\", score[1])"
   ]
  },
  {
   "cell_type": "code",
   "execution_count": 9,
   "metadata": {
    "id": "zxjAM8nKj1sB"
   },
   "outputs": [
    {
     "name": "stdout",
     "output_type": "stream",
     "text": [
      "dict_keys(['loss', 'accuracy', 'val_loss', 'val_accuracy'])\n"
     ]
    }
   ],
   "source": [
    "# list all data in history\n",
    "print(history.history.keys())"
   ]
  },
  {
   "cell_type": "code",
   "execution_count": 10,
   "metadata": {
    "colab": {
     "base_uri": "https://localhost:8080/",
     "height": 234
    },
    "id": "ni9hHvNTjosv",
    "outputId": "34d37477-a75e-46ce-f27d-b73f76d1c19f"
   },
   "outputs": [
    {
     "data": {
      "image/png": "[encoded data removed]",
      "text/plain": [
       "<Figure size 432x288 with 1 Axes>"
      ]
     },
     "metadata": {
      "needs_background": "light"
     },
     "output_type": "display_data"
    }
   ],
   "source": [
    "# summarize history for accuracy\n",
    "plt.plot(history.history['accuracy'])\n",
    "plt.plot(history.history['val_loss'])\n",
    "plt.title('model accuracy')\n",
    "plt.ylabel('accuracy')\n",
    "plt.xlabel('epoch')\n",
    "plt.legend(['train', 'test'], loc='upper left')\n",
    "plt.show()"
   ]
  },
  {
   "cell_type": "code",
   "execution_count": 11,
   "metadata": {
    "id": "9i6iahGEj455"
   },
   "outputs": [
    {
     "data": {
      "image/png": "[encoded data removed]",
      "text/plain": [
       "<Figure size 432x288 with 1 Axes>"
      ]
     },
     "metadata": {
      "needs_background": "light"
     },
     "output_type": "display_data"
    }
   ],
   "source": [
    "# summarize history for loss\n",
    "plt.plot(history.history['loss'])\n",
    "plt.plot(history.history['val_loss'])\n",
    "plt.title('model loss')\n",
    "plt.ylabel('loss')\n",
    "plt.xlabel('epoch')\n",
    "plt.legend(['train', 'test'], loc='upper left')\n",
    "plt.show()"
   ]
  },
  {
   "cell_type": "code",
   "execution_count": 12,
   "metadata": {
    "id": "CC_9il_tUIhl"
   },
   "outputs": [],
   "source": [
    "#save model\n",
    "model_json = model.to_json()\n",
    "open('cifar10_architecture.json', 'w').write(model_json)\n",
    "#weights\n",
    "model.save_weights('cifar10_weights.h5', overwrite = True)"
   ]
  },
  {
   "cell_type": "code",
   "execution_count": 31,
   "metadata": {
    "colab": {
     "base_uri": "https://localhost:8080/"
    },
    "id": "bPaDe9vvi5ue",
    "outputId": "e032e0e9-6f5a-4556-bddb-6e5fb6477206"
   },
   "outputs": [
    {
     "name": "stdout",
     "output_type": "stream",
     "text": [
      "Model: \"sequential_2\"\n",
      "_________________________________________________________________\n",
      "Layer (type)                 Output Shape              Param #   \n",
      "=================================================================\n",
      "conv2d_5 (Conv2D)            (None, 32, 32, 32)        896       \n",
      "_________________________________________________________________\n",
      "activation_9 (Activation)    (None, 32, 32, 32)        0         \n",
      "_________________________________________________________________\n",
      "conv2d_6 (Conv2D)            (None, 32, 32, 32)        9248      \n",
      "_________________________________________________________________\n",
      "activation_10 (Activation)   (None, 32, 32, 32)        0         \n",
      "_________________________________________________________________\n",
      "max_pooling2d_3 (MaxPooling2 (None, 16, 16, 32)        0         \n",
      "_________________________________________________________________\n",
      "dropout_5 (Dropout)          (None, 16, 16, 32)        0         \n",
      "_________________________________________________________________\n",
      "conv2d_7 (Conv2D)            (None, 16, 16, 64)        18496     \n",
      "_________________________________________________________________\n",
      "activation_11 (Activation)   (None, 16, 16, 64)        0         \n",
      "_________________________________________________________________\n",
      "conv2d_8 (Conv2D)            (None, 5, 5, 64)          36928     \n",
      "_________________________________________________________________\n",
      "activation_12 (Activation)   (None, 5, 5, 64)          0         \n",
      "_________________________________________________________________\n",
      "max_pooling2d_4 (MaxPooling2 (None, 2, 2, 64)          0         \n",
      "_________________________________________________________________\n",
      "dropout_6 (Dropout)          (None, 2, 2, 64)          0         \n",
      "_________________________________________________________________\n",
      "flatten_2 (Flatten)          (None, 256)               0         \n",
      "_________________________________________________________________\n",
      "dense_4 (Dense)              (None, 512)               131584    \n",
      "_________________________________________________________________\n",
      "activation_13 (Activation)   (None, 512)               0         \n",
      "_________________________________________________________________\n",
      "dropout_7 (Dropout)          (None, 512)               0         \n",
      "_________________________________________________________________\n",
      "dense_5 (Dense)              (None, 10)                5130      \n",
      "_________________________________________________________________\n",
      "activation_14 (Activation)   (None, 10)                0         \n",
      "=================================================================\n",
      "Total params: 202,282\n",
      "Trainable params: 202,282\n",
      "Non-trainable params: 0\n",
      "_________________________________________________________________\n"
     ]
    }
   ],
   "source": [
    "#new network \n",
    "#one of the methods to increase quality of recognition - create a deeper network with several convolutions \n",
    "#conv+conv+maxpool+dropout+conv+conv+maxpool\n",
    "\n",
    "model = Sequential()\n",
    " \n",
    "model.add(Conv2D(32, kernel_size=3, padding='same',\n",
    "                        input_shape=(IMG_ROWS, IMG_COLS, IMG_CHANNELS)))\n",
    "model.add(Activation('relu'))\n",
    "model.add(Conv2D(32, kernel_size=3, padding='same'))\n",
    "model.add(Activation('relu'))\n",
    "model.add(MaxPooling2D(pool_size=(2, 2)))\n",
    "model.add(Dropout(0.25))\n",
    " \n",
    "model.add(Conv2D(64, kernel_size=3, padding='same'))\n",
    "model.add(Activation('relu'))\n",
    "model.add(Conv2D(64, 3, 3))\n",
    "model.add(Activation('relu'))\n",
    "model.add(MaxPooling2D(pool_size=(2, 2)))\n",
    "model.add(Dropout(0.25))\n",
    " \n",
    "model.add(Flatten())\n",
    "model.add(Dense(512))\n",
    "model.add(Activation('relu'))\n",
    "model.add(Dropout(0.5))\n",
    "model.add(Dense(NB_CLASSES))\n",
    "model.add(Activation('softmax'))\n",
    "\n",
    "model.summary()\n"
   ]
  },
  {
   "cell_type": "code",
   "execution_count": 14,
   "metadata": {
    "colab": {
     "base_uri": "https://localhost:8080/",
     "height": 414
    },
    "id": "q6rw9hFnjffu",
    "outputId": "221038d8-0302-491b-cbbd-26fa23bb5715"
   },
   "outputs": [
    {
     "name": "stdout",
     "output_type": "stream",
     "text": [
      "Epoch 1/20\n",
      "313/313 [==============================] - 37s 117ms/step - loss: 1.9793 - accuracy: 0.2701 - val_loss: 1.7560 - val_accuracy: 0.3543\n",
      "Epoch 2/20\n",
      "313/313 [==============================] - 37s 117ms/step - loss: 1.6408 - accuracy: 0.3968 - val_loss: 1.4843 - val_accuracy: 0.4595\n",
      "Epoch 3/20\n",
      "313/313 [==============================] - 37s 119ms/step - loss: 1.4817 - accuracy: 0.4581 - val_loss: 1.5999 - val_accuracy: 0.4495\n",
      "Epoch 4/20\n",
      "313/313 [==============================] - 39s 123ms/step - loss: 1.3782 - accuracy: 0.5012 - val_loss: 1.2608 - val_accuracy: 0.5478\n",
      "Epoch 5/20\n",
      "313/313 [==============================] - 39s 126ms/step - loss: 1.2940 - accuracy: 0.5349 - val_loss: 1.1778 - val_accuracy: 0.5728\n",
      "Epoch 6/20\n",
      "313/313 [==============================] - 42s 134ms/step - loss: 1.2271 - accuracy: 0.5613 - val_loss: 1.2483 - val_accuracy: 0.5472\n",
      "Epoch 7/20\n",
      "313/313 [==============================] - 43s 138ms/step - loss: 1.1757 - accuracy: 0.5842 - val_loss: 1.0916 - val_accuracy: 0.6144\n",
      "Epoch 8/20\n",
      "313/313 [==============================] - 39s 124ms/step - loss: 1.1266 - accuracy: 0.5982 - val_loss: 1.0969 - val_accuracy: 0.6114\n",
      "Epoch 9/20\n",
      "313/313 [==============================] - 37s 119ms/step - loss: 1.0937 - accuracy: 0.6144 - val_loss: 0.9795 - val_accuracy: 0.6592\n",
      "Epoch 10/20\n",
      "313/313 [==============================] - 37s 118ms/step - loss: 1.0535 - accuracy: 0.6283 - val_loss: 0.9847 - val_accuracy: 0.6565\n",
      "Epoch 11/20\n",
      "313/313 [==============================] - 37s 118ms/step - loss: 1.0239 - accuracy: 0.6369 - val_loss: 0.9437 - val_accuracy: 0.6719\n",
      "Epoch 12/20\n",
      "313/313 [==============================] - 37s 118ms/step - loss: 1.0026 - accuracy: 0.6491 - val_loss: 0.9233 - val_accuracy: 0.6798\n",
      "Epoch 13/20\n",
      "313/313 [==============================] - 37s 119ms/step - loss: 0.9814 - accuracy: 0.6550 - val_loss: 0.9210 - val_accuracy: 0.6777\n",
      "Epoch 14/20\n",
      "313/313 [==============================] - 37s 119ms/step - loss: 0.9589 - accuracy: 0.6634 - val_loss: 0.8972 - val_accuracy: 0.6933\n",
      "Epoch 15/20\n",
      "313/313 [==============================] - 37s 119ms/step - loss: 0.9400 - accuracy: 0.6682 - val_loss: 0.8983 - val_accuracy: 0.6867\n",
      "Epoch 16/20\n",
      "313/313 [==============================] - 38s 122ms/step - loss: 0.9176 - accuracy: 0.6758 - val_loss: 1.0477 - val_accuracy: 0.6526\n",
      "Epoch 17/20\n",
      "313/313 [==============================] - 38s 122ms/step - loss: 0.9100 - accuracy: 0.6807 - val_loss: 0.8509 - val_accuracy: 0.7040\n",
      "Epoch 18/20\n",
      "313/313 [==============================] - 40s 128ms/step - loss: 0.8927 - accuracy: 0.6862 - val_loss: 0.8826 - val_accuracy: 0.6874\n",
      "Epoch 19/20\n",
      "313/313 [==============================] - 39s 124ms/step - loss: 0.8745 - accuracy: 0.6937 - val_loss: 0.8258 - val_accuracy: 0.7059\n",
      "Epoch 20/20\n",
      "313/313 [==============================] - 39s 124ms/step - loss: 0.8640 - accuracy: 0.6944 - val_loss: 0.8382 - val_accuracy: 0.7052\n",
      "79/79 [==============================] - 2s 26ms/step - loss: 0.8549 - accuracy: 0.6974\n",
      "Test score: 0.8548728227615356\n",
      "Test accuracy: 0.6973999738693237\n"
     ]
    }
   ],
   "source": [
    "#training\n",
    "model.compile(loss = 'categorical_crossentropy', optimizer = OPTIM, metrics = ['accuracy'])\n",
    "history = model.fit(X_train, Y_train, batch_size = BATCH_SIZE, epochs=NB_EPOCH, validation_split = VALIDATION_SPLIT, verbose = VERBOSE)\n",
    "score = model.evaluate(X_test, Y_test, batch_size = BATCH_SIZE, verbose = VERBOSE)\n",
    "print(\"Test score:\", score[0])\n",
    "print(\"Test accuracy:\", score[1])"
   ]
  },
  {
   "cell_type": "code",
   "execution_count": 15,
   "metadata": {
    "id": "SSK6PZw-kEk9"
   },
   "outputs": [
    {
     "name": "stdout",
     "output_type": "stream",
     "text": [
      "dict_keys(['loss', 'accuracy', 'val_loss', 'val_accuracy'])\n"
     ]
    }
   ],
   "source": [
    "# list all data in history\n",
    "print(history.history.keys())"
   ]
  },
  {
   "cell_type": "code",
   "execution_count": 16,
   "metadata": {
    "colab": {
     "base_uri": "https://localhost:8080/",
     "height": 234
    },
    "id": "w5Y_cympkKcp",
    "outputId": "34d37477-a75e-46ce-f27d-b73f76d1c19f"
   },
   "outputs": [
    {
     "data": {
      "image/png": "[encoded data removed]",
      "text/plain": [
       "<Figure size 432x288 with 1 Axes>"
      ]
     },
     "metadata": {
      "needs_background": "light"
     },
     "output_type": "display_data"
    }
   ],
   "source": [
    "# summarize history for accuracy\n",
    "plt.plot(history.history['accuracy'])\n",
    "plt.plot(history.history['val_loss'])\n",
    "plt.title('model accuracy')\n",
    "plt.ylabel('accuracy')\n",
    "plt.xlabel('epoch')\n",
    "plt.legend(['train', 'test'], loc='upper left')\n",
    "plt.show()"
   ]
  },
  {
   "cell_type": "code",
   "execution_count": 17,
   "metadata": {
    "id": "OwdU1R2jkPmX"
   },
   "outputs": [
    {
     "data": {
      "image/png": "[encoded data removed]",
      "text/plain": [
       "<Figure size 432x288 with 1 Axes>"
      ]
     },
     "metadata": {
      "needs_background": "light"
     },
     "output_type": "display_data"
    }
   ],
   "source": [
    "# summarize history for loss\n",
    "plt.plot(history.history['loss'])\n",
    "plt.plot(history.history['val_loss'])\n",
    "plt.title('model loss')\n",
    "plt.ylabel('loss')\n",
    "plt.xlabel('epoch')\n",
    "plt.legend(['train', 'test'], loc='upper left')\n",
    "plt.show()"
   ]
  },
  {
   "cell_type": "code",
   "execution_count": 18,
   "metadata": {},
   "outputs": [],
   "source": [
    "#save model\n",
    "model_json = model.to_json()\n",
    "open('cifar10_architecture.json', 'w').write(model_json)\n",
    "#weights\n",
    "model.save_weights('cifar10_weights.h5', overwrite = True)"
   ]
  },
  {
   "cell_type": "code",
   "execution_count": 19,
   "metadata": {},
   "outputs": [],
   "source": [
    "#augmenting data\n",
    "from keras.preprocessing.image import ImageDataGenerator\n",
    "import numpy as np"
   ]
  },
  {
   "cell_type": "code",
   "execution_count": 33,
   "metadata": {},
   "outputs": [
    {
     "name": "stdout",
     "output_type": "stream",
     "text": [
      "Augmentating training set images...\n"
     ]
    }
   ],
   "source": [
    "#augmentation\n",
    "#methods adopted from Kaggle and machine learning mastery\n",
    "print(\"Augmentating training set images...\")\n",
    "datagen = ImageDataGenerator(\n",
    "        featurewise_center=False,  # set input mean to 0 over the dataset\n",
    "        samplewise_center=False,  # set each sample mean to 0\n",
    "        featurewise_std_normalization=False,  # divide inputs by std of the dataset\n",
    "        samplewise_std_normalization=False,  # divide each input by its std\n",
    "        zca_whitening=False,  # apply ZCA whitening\n",
    "        rotation_range=0,  # randomly rotate images in the range (degrees, 0 to 180)\n",
    "        width_shift_range=0.1,  # randomly shift images horizontally (fraction of total width)\n",
    "        height_shift_range=0.1,  # randomly shift images vertically (fraction of total height)\n",
    "        horizontal_flip=True,  # randomly flip images\n",
    "        vertical_flip=False)  # randomly flip images)"
   ]
  },
  {
   "cell_type": "code",
   "execution_count": 34,
   "metadata": {},
   "outputs": [],
   "source": [
    "datagen.fit(X_train)"
   ]
  },
  {
   "cell_type": "code",
   "execution_count": 36,
   "metadata": {},
   "outputs": [
    {
     "name": "stdout",
     "output_type": "stream",
     "text": [
      "Epoch 1/20\n",
      "313/313 [==============================] - 37s 117ms/step - loss: 1.9736 - accuracy: 0.2673 - val_loss: 1.8602 - val_accuracy: 0.3213\n",
      "Epoch 2/20\n",
      "313/313 [==============================] - 36s 115ms/step - loss: 1.6503 - accuracy: 0.3969 - val_loss: 1.4518 - val_accuracy: 0.4744\n",
      "Epoch 3/20\n",
      "313/313 [==============================] - 35s 113ms/step - loss: 1.4917 - accuracy: 0.4563 - val_loss: 1.4224 - val_accuracy: 0.4849\n",
      "Epoch 4/20\n",
      "313/313 [==============================] - 41s 130ms/step - loss: 1.3778 - accuracy: 0.5001 - val_loss: 1.2315 - val_accuracy: 0.5572\n",
      "Epoch 5/20\n",
      "313/313 [==============================] - 39s 124ms/step - loss: 1.2920 - accuracy: 0.5373 - val_loss: 1.1803 - val_accuracy: 0.5759\n",
      "Epoch 6/20\n",
      "313/313 [==============================] - 37s 119ms/step - loss: 1.2226 - accuracy: 0.5646 - val_loss: 1.2177 - val_accuracy: 0.5641\n",
      "Epoch 7/20\n",
      "313/313 [==============================] - 38s 120ms/step - loss: 1.1707 - accuracy: 0.5825 - val_loss: 1.1049 - val_accuracy: 0.6168\n",
      "Epoch 8/20\n",
      "313/313 [==============================] - 40s 128ms/step - loss: 1.1255 - accuracy: 0.6030 - val_loss: 1.0869 - val_accuracy: 0.6031\n",
      "Epoch 9/20\n",
      "313/313 [==============================] - 38s 122ms/step - loss: 1.0787 - accuracy: 0.6183 - val_loss: 1.1194 - val_accuracy: 0.6051\n",
      "Epoch 10/20\n",
      "313/313 [==============================] - 43s 137ms/step - loss: 1.0477 - accuracy: 0.6312 - val_loss: 0.9953 - val_accuracy: 0.6473\n",
      "Epoch 11/20\n",
      "313/313 [==============================] - 42s 134ms/step - loss: 1.0171 - accuracy: 0.6410 - val_loss: 0.9524 - val_accuracy: 0.6663\n",
      "Epoch 12/20\n",
      "313/313 [==============================] - 43s 139ms/step - loss: 0.9955 - accuracy: 0.6484 - val_loss: 0.9769 - val_accuracy: 0.6606\n",
      "Epoch 13/20\n",
      "313/313 [==============================] - 42s 133ms/step - loss: 0.9665 - accuracy: 0.6621 - val_loss: 0.9140 - val_accuracy: 0.6719\n",
      "Epoch 14/20\n",
      "313/313 [==============================] - 42s 134ms/step - loss: 0.9442 - accuracy: 0.6690 - val_loss: 0.9078 - val_accuracy: 0.6840\n",
      "Epoch 15/20\n",
      "313/313 [==============================] - 41s 131ms/step - loss: 0.9230 - accuracy: 0.6751 - val_loss: 0.9048 - val_accuracy: 0.6824\n",
      "Epoch 16/20\n",
      "313/313 [==============================] - 43s 138ms/step - loss: 0.9028 - accuracy: 0.6827 - val_loss: 0.9326 - val_accuracy: 0.6734\n",
      "Epoch 17/20\n",
      "313/313 [==============================] - 39s 126ms/step - loss: 0.8888 - accuracy: 0.6866 - val_loss: 0.8759 - val_accuracy: 0.6894\n",
      "Epoch 18/20\n",
      "313/313 [==============================] - 41s 132ms/step - loss: 0.8693 - accuracy: 0.6944 - val_loss: 0.8615 - val_accuracy: 0.6934\n",
      "Epoch 19/20\n",
      "313/313 [==============================] - 40s 129ms/step - loss: 0.8575 - accuracy: 0.6991 - val_loss: 0.8670 - val_accuracy: 0.7019\n",
      "Epoch 20/20\n",
      "313/313 [==============================] - 39s 124ms/step - loss: 0.8434 - accuracy: 0.7064 - val_loss: 0.9068 - val_accuracy: 0.6859\n",
      "79/79 [==============================] - 2s 27ms/step - loss: 0.9286 - accuracy: 0.6791\n",
      "Test score: 0.9285744428634644\n",
      "Test accuracy: 0.679099977016449\n"
     ]
    }
   ],
   "source": [
    "#training\n",
    "model.compile(loss = 'categorical_crossentropy', optimizer = OPTIM, metrics = ['accuracy'])\n",
    "history = model.fit(X_train, Y_train, batch_size = BATCH_SIZE, epochs=NB_EPOCH, validation_split = VALIDATION_SPLIT, verbose = VERBOSE)\n",
    "score = model.evaluate(X_test, Y_test, batch_size = BATCH_SIZE, verbose = VERBOSE)\n",
    "print(\"Test score:\", score[0])\n",
    "print(\"Test accuracy:\", score[1])"
   ]
  },
  {
   "cell_type": "code",
   "execution_count": 37,
   "metadata": {},
   "outputs": [
    {
     "name": "stdout",
     "output_type": "stream",
     "text": [
      "dict_keys(['loss', 'accuracy', 'val_loss', 'val_accuracy'])\n"
     ]
    }
   ],
   "source": [
    "# list all data in history\n",
    "print(history.history.keys())"
   ]
  },
  {
   "cell_type": "code",
   "execution_count": 38,
   "metadata": {},
   "outputs": [
    {
     "data": {
      "image/png": "[encoded data removed]",
      "text/plain": [
       "<Figure size 432x288 with 1 Axes>"
      ]
     },
     "metadata": {
      "needs_background": "light"
     },
     "output_type": "display_data"
    }
   ],
   "source": [
    "# summarize history for accuracy\n",
    "plt.plot(history.history['accuracy'])\n",
    "plt.plot(history.history['val_loss'])\n",
    "plt.title('model accuracy')\n",
    "plt.ylabel('accuracy')\n",
    "plt.xlabel('epoch')\n",
    "plt.legend(['train', 'test'], loc='upper left')\n",
    "plt.show()"
   ]
  },
  {
   "cell_type": "code",
   "execution_count": 39,
   "metadata": {},
   "outputs": [
    {
     "data": {
      "image/png": "[encoded data removed]",
      "text/plain": [
       "<Figure size 432x288 with 1 Axes>"
      ]
     },
     "metadata": {
      "needs_background": "light"
     },
     "output_type": "display_data"
    }
   ],
   "source": [
    "# summarize history for loss\n",
    "plt.plot(history.history['loss'])\n",
    "plt.plot(history.history['val_loss'])\n",
    "plt.title('model loss')\n",
    "plt.ylabel('loss')\n",
    "plt.xlabel('epoch')\n",
    "plt.legend(['train', 'test'], loc='upper left')\n",
    "plt.show()"
   ]
  },
  {
   "cell_type": "code",
   "execution_count": 40,
   "metadata": {},
   "outputs": [],
   "source": [
    "#save model\n",
    "model_json = model.to_json()\n",
    "open('cifar10_architecture.json', 'w').write(model_json)\n",
    "#weights\n",
    "model.save_weights('cifar10_weights.h5', overwrite = True)"
   ]
  },
  {
   "cell_type": "code",
   "execution_count": null,
   "metadata": {},
   "outputs": [],
   "source": []
  }
 ],
 "metadata": {
  "colab": {
   "name": "Untitled0.ipynb",
   "provenance": []
  },
  "kernelspec": {
   "display_name": "Python 3",
   "language": "python",
   "name": "python3"
  },
  "language_info": {
   "codemirror_mode": {
    "name": "ipython",
    "version": 3
   },
   "file_extension": ".py",
   "mimetype": "text/x-python",
   "name": "python",
   "nbconvert_exporter": "python",
   "pygments_lexer": "ipython3",
   "version": "3.7.9"
  }
 },
 "nbformat": 4,
 "nbformat_minor": 1
}
