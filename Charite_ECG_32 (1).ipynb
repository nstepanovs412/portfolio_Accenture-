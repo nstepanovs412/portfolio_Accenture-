{
 "cells": [
  {
   "cell_type": "code",
   "execution_count": 1,
   "metadata": {},
   "outputs": [
    {
     "name": "stderr",
     "output_type": "stream",
     "text": [
      "C:\\Users\\nikit\\anaconda3\\lib\\site-packages\\tensorflow\\python\\framework\\dtypes.py:516: FutureWarning: Passing (type, 1) or '1type' as a synonym of type is deprecated; in a future version of numpy, it will be understood as (type, (1,)) / '(1,)type'.\n",
      "  _np_qint8 = np.dtype([(\"qint8\", np.int8, 1)])\n",
      "C:\\Users\\nikit\\anaconda3\\lib\\site-packages\\tensorflow\\python\\framework\\dtypes.py:517: FutureWarning: Passing (type, 1) or '1type' as a synonym of type is deprecated; in a future version of numpy, it will be understood as (type, (1,)) / '(1,)type'.\n",
      "  _np_quint8 = np.dtype([(\"quint8\", np.uint8, 1)])\n",
      "C:\\Users\\nikit\\anaconda3\\lib\\site-packages\\tensorflow\\python\\framework\\dtypes.py:518: FutureWarning: Passing (type, 1) or '1type' as a synonym of type is deprecated; in a future version of numpy, it will be understood as (type, (1,)) / '(1,)type'.\n",
      "  _np_qint16 = np.dtype([(\"qint16\", np.int16, 1)])\n",
      "C:\\Users\\nikit\\anaconda3\\lib\\site-packages\\tensorflow\\python\\framework\\dtypes.py:519: FutureWarning: Passing (type, 1) or '1type' as a synonym of type is deprecated; in a future version of numpy, it will be understood as (type, (1,)) / '(1,)type'.\n",
      "  _np_quint16 = np.dtype([(\"quint16\", np.uint16, 1)])\n",
      "C:\\Users\\nikit\\anaconda3\\lib\\site-packages\\tensorflow\\python\\framework\\dtypes.py:520: FutureWarning: Passing (type, 1) or '1type' as a synonym of type is deprecated; in a future version of numpy, it will be understood as (type, (1,)) / '(1,)type'.\n",
      "  _np_qint32 = np.dtype([(\"qint32\", np.int32, 1)])\n",
      "C:\\Users\\nikit\\anaconda3\\lib\\site-packages\\tensorflow\\python\\framework\\dtypes.py:525: FutureWarning: Passing (type, 1) or '1type' as a synonym of type is deprecated; in a future version of numpy, it will be understood as (type, (1,)) / '(1,)type'.\n",
      "  np_resource = np.dtype([(\"resource\", np.ubyte, 1)])\n",
      "C:\\Users\\nikit\\anaconda3\\lib\\site-packages\\tensorboard\\compat\\tensorflow_stub\\dtypes.py:541: FutureWarning: Passing (type, 1) or '1type' as a synonym of type is deprecated; in a future version of numpy, it will be understood as (type, (1,)) / '(1,)type'.\n",
      "  _np_qint8 = np.dtype([(\"qint8\", np.int8, 1)])\n",
      "C:\\Users\\nikit\\anaconda3\\lib\\site-packages\\tensorboard\\compat\\tensorflow_stub\\dtypes.py:542: FutureWarning: Passing (type, 1) or '1type' as a synonym of type is deprecated; in a future version of numpy, it will be understood as (type, (1,)) / '(1,)type'.\n",
      "  _np_quint8 = np.dtype([(\"quint8\", np.uint8, 1)])\n",
      "C:\\Users\\nikit\\anaconda3\\lib\\site-packages\\tensorboard\\compat\\tensorflow_stub\\dtypes.py:543: FutureWarning: Passing (type, 1) or '1type' as a synonym of type is deprecated; in a future version of numpy, it will be understood as (type, (1,)) / '(1,)type'.\n",
      "  _np_qint16 = np.dtype([(\"qint16\", np.int16, 1)])\n",
      "C:\\Users\\nikit\\anaconda3\\lib\\site-packages\\tensorboard\\compat\\tensorflow_stub\\dtypes.py:544: FutureWarning: Passing (type, 1) or '1type' as a synonym of type is deprecated; in a future version of numpy, it will be understood as (type, (1,)) / '(1,)type'.\n",
      "  _np_quint16 = np.dtype([(\"quint16\", np.uint16, 1)])\n",
      "C:\\Users\\nikit\\anaconda3\\lib\\site-packages\\tensorboard\\compat\\tensorflow_stub\\dtypes.py:545: FutureWarning: Passing (type, 1) or '1type' as a synonym of type is deprecated; in a future version of numpy, it will be understood as (type, (1,)) / '(1,)type'.\n",
      "  _np_qint32 = np.dtype([(\"qint32\", np.int32, 1)])\n",
      "C:\\Users\\nikit\\anaconda3\\lib\\site-packages\\tensorboard\\compat\\tensorflow_stub\\dtypes.py:550: FutureWarning: Passing (type, 1) or '1type' as a synonym of type is deprecated; in a future version of numpy, it will be understood as (type, (1,)) / '(1,)type'.\n",
      "  np_resource = np.dtype([(\"resource\", np.ubyte, 1)])\n"
     ]
    }
   ],
   "source": [
    "import pandas as pd\n",
    "import numpy as np\n",
    "import wfdb\n",
    "import ast\n",
    "import tensorflow as tf\n",
    "import pywt\n",
    "import matplotlib.pyplot as plt\n",
    "from skimage.transform import resize\n",
    "from sklearn.decomposition import PCA\n",
    "from tensorflow import keras\n",
    "from tensorflow.keras import layers\n",
    "from tensorflow import keras\n",
    "from tensorflow.keras.models import Sequential\n",
    "from tensorflow.keras.layers import Dense, Activation, Flatten\n",
    "from tensorflow.keras.layers import Conv2D, MaxPooling2D\n",
    "from tensorflow.keras.callbacks import ModelCheckpoint\n",
    "import seaborn as sns\n",
    "from sklearn import metrics\n"
   ]
  },
  {
   "cell_type": "code",
   "execution_count": 2,
   "metadata": {},
   "outputs": [
    {
     "name": "stdout",
     "output_type": "stream",
     "text": [
      "WARNING:tensorflow:\n",
      "The TensorFlow contrib module will not be included in TensorFlow 2.0.\n",
      "For more information, please see:\n",
      "  * https://github.com/tensorflow/community/blob/master/rfcs/20180907-contrib-sunset.md\n",
      "  * https://github.com/tensorflow/addons\n",
      "  * https://github.com/tensorflow/io (for I/O related ops)\n",
      "If you depend on functionality not listed there, please file an issue.\n",
      "\n"
     ]
    },
    {
     "data": {
      "text/plain": [
       "1"
      ]
     },
     "execution_count": 2,
     "metadata": {},
     "output_type": "execute_result"
    }
   ],
   "source": [
    "tf.contrib.eager.num_gpus()"
   ]
  },
  {
   "cell_type": "code",
   "execution_count": 3,
   "metadata": {},
   "outputs": [
    {
     "name": "stdout",
     "output_type": "stream",
     "text": [
      "[\"{'NORM': 100.0, 'LVOLT': 0.0, 'SR': 0.0}\" \"{'NORM': 80.0, 'SBRAD': 0.0}\"\n",
      " \"{'NORM': 100.0, 'SR': 0.0}\" ...\n",
      " \"{'IMI': 100.0, 'ISCLA': 50.0, 'ABQRS': 0.0, 'SVARR': 0.0}\"\n",
      " \"{'IMI': 80.0, 'ISCLA': 100.0, 'PVC': 100.0, 'ABQRS': 0.0, 'SR': 0.0}\"\n",
      " \"{'NDT': 100.0, 'PVC': 100.0, 'VCLVH': 0.0, 'STACH': 0.0}\"]\n"
     ]
    }
   ],
   "source": [
    "def load_raw_data(df, sampling_rate, path):\n",
    "    if sampling_rate == 100:\n",
    "        data = [wfdb.rdsamp(path+f) for f in df.filename_lr]\n",
    "    else:\n",
    "        data = [wfdb.rdsamp(path+f) for f in df.filename_hr]\n",
    "    data = np.array([signal for signal, meta in data])\n",
    "    return data\n",
    "\n",
    "path = 'C:/Users/nikit/Downloads/ptb-xl-a-large-publicly-available-electrocardiography-dataset-1.0.1/ptb-xl-a-large-publicly-available-electrocardiography-dataset-1.0.1/'\n",
    "sampling_rate=100\n",
    "\n",
    "# load and convert annotation data\n",
    "Y = pd.read_csv(path+'ptbxl_database.csv', index_col='ecg_id')\n",
    "#Y.scp_codes = Y.scp_codes.apply(lambda x: ast.literal_eval(x))\n",
    "\n",
    "# Load scp_statements.csv for diagnostic aggregation\n",
    "#agg_df = pd.read_csv(path+'scp_statements.csv', index_col=0)\n",
    "#agg_df = agg_df[agg_df.diagnostic == 1]\n",
    "\n",
    "\n",
    "# Apply diagnostic superclass\n",
    "\n",
    "\n",
    "# Convert to dataframe\n",
    "y_true = pd.DataFrame(data=Y)\n",
    "\n",
    "# Dropping empty values\n",
    "nan_value = float(\"NaN\")\n",
    "y_true.replace(\"\", nan_value, inplace=True)\n",
    "\n",
    "\n",
    "# Load raw signal data\n",
    "X = load_raw_data(y_true, sampling_rate, path)\n",
    "\n",
    "# Creating labels\n",
    "#print(labels(y_true['diagnostic_superclass']))\n",
    "\n",
    "#convert numpy array into tensor\n",
    "def converter(arg):\n",
    "  arg = tf.convert_to_tensor(arg, dtype=tf.float32)\n",
    "  return arg\n",
    "\n",
    "\n",
    "print(y_true['scp_codes'].astype('str').unique())\n",
    "#print(y_true)\n",
    "#type(Y['diagnostic_superclass'])\n",
    "#print(Y['diagnostic_superclass'])"
   ]
  },
  {
   "cell_type": "code",
   "execution_count": 4,
   "metadata": {},
   "outputs": [],
   "source": [
    "# Split data into train and test\n",
    "test_fold = 10\n",
    "# Train\n",
    "X_train = X[np.where(Y.strat_fold != test_fold)]\n",
    "y_train = Y[(Y.strat_fold != test_fold)].sex\n",
    "# Test\n",
    "X_test = X[np.where(Y.strat_fold == test_fold)]\n",
    "y_test = Y[Y.strat_fold == test_fold].sex"
   ]
  },
  {
   "cell_type": "code",
   "execution_count": 5,
   "metadata": {},
   "outputs": [
    {
     "name": "stdout",
     "output_type": "stream",
     "text": [
      "shapes (n_samples, x_img, y_img, z_img) of X_train_cwt: (19634, 32, 32, 12)\n",
      "shapes (n_samples, x_img, y_img, z_img) of X_test_cwt: (2203, 32, 32, 12)\n"
     ]
    }
   ],
   "source": [
    "def create_cwt_images(data, n_scales, rescale_size, wavelet_name=\"morl\"):\n",
    "    n_patients = data.shape[0]\n",
    "    n_leads = data.shape[2]\n",
    "\n",
    "    # range of scales from 1 to n_scales\n",
    "    scales = np.arange(1, n_scales + 1)\n",
    "\n",
    "    # pre allocate array\n",
    "    data_cwt = np.ndarray(shape=(n_patients, rescale_size, rescale_size, n_leads), dtype='float32')\n",
    "\n",
    "    sample = 0\n",
    "    signal = 0\n",
    "\n",
    "    for sample in range(n_patients):\n",
    "        for signal in range(n_leads):\n",
    "            #leads\n",
    "            lead = data[sample, :, signal]\n",
    "            # continuous wavelet transform\n",
    "            coeffs, freqs = pywt.cwt(lead, scales, wavelet_name)\n",
    "            # resize the 2D cwt coeffs\n",
    "            rescale_coeffs = resize(coeffs, (rescale_size, rescale_size), mode='constant')\n",
    "            data_cwt[sample, :, :, signal] = rescale_coeffs\n",
    "\n",
    "    return data_cwt\n",
    "\n",
    "\n",
    "# amount of pixels in X and Y\n",
    "rescale_size = 32\n",
    "# determine the max scale size\n",
    "n_scales = 32\n",
    "\n",
    "X_train_cwt = create_cwt_images(X_train, n_scales, rescale_size)\n",
    "print(f\"shapes (n_samples, x_img, y_img, z_img) of X_train_cwt: {X_train_cwt.shape}\")\n",
    "X_test_cwt = create_cwt_images(X_test, n_scales, rescale_size)\n",
    "print(f\"shapes (n_samples, x_img, y_img, z_img) of X_test_cwt: {X_test_cwt.shape}\")"
   ]
  },
  {
   "cell_type": "code",
   "execution_count": 6,
   "metadata": {},
   "outputs": [],
   "source": [
    "def build_cnn_model(activation, input_shape):\n",
    "    # Defining basic NN\n",
    "    model = Sequential()\n",
    "\n",
    "    # 2 Convolution layer with Max polling\n",
    "    model.add(Conv2D(64, 5, activation=activation, padding='same', input_shape=input_shape))\n",
    "    model.add(MaxPooling2D())\n",
    "    model.add(Conv2D(128, 5, activation=activation, padding='same', kernel_initializer=\"he_normal\"))\n",
    "    model.add(MaxPooling2D())\n",
    "    model.add(Flatten())\n",
    "\n",
    "    # 3 Full connected layer\n",
    "    model.add(Dense(256, activation=activation, kernel_initializer=\"he_normal\"))\n",
    "    model.add(Dense(54, activation=activation, kernel_initializer=\"he_normal\"))\n",
    "    model.add(Dense(2, activation='softmax'))  # 2 classes\n",
    "\n",
    "    # summarize the model\n",
    "    print(model.summary())\n",
    "    return model"
   ]
  },
  {
   "cell_type": "code",
   "execution_count": 7,
   "metadata": {},
   "outputs": [],
   "source": [
    "def compile_and_fit_model(model, X_traina, y_traina, X_testa, y_testa, batch_size, n_epochs):\n",
    "    # compile the model\n",
    "    model.compile(\n",
    "        optimizer=tf.keras.optimizers.Adam(),\n",
    "        loss='sparse_categorical_crossentropy',\n",
    "        metrics=['sparse_categorical_accuracy'])\n",
    "\n",
    "    # define callbacks\n",
    "    callbacks = [\n",
    "        ModelCheckpoint(filepath='best_model.h5', monitor='val_sparse_categorical_accuracy', save_best_only=True)]\n",
    "\n",
    "    # fit the model\n",
    "    history = model.fit(x=X_traina,\n",
    "                        y=y_traina,\n",
    "                        batch_size=batch_size,\n",
    "                        epochs=n_epochs,\n",
    "                        verbose=1,\n",
    "                        callbacks=callbacks,\n",
    "                        validation_data=(X_testa, y_testa))\n",
    "\n",
    "    return model, history"
   ]
  },
  {
   "cell_type": "code",
   "execution_count": 8,
   "metadata": {},
   "outputs": [
    {
     "name": "stdout",
     "output_type": "stream",
     "text": [
      "WARNING:tensorflow:From C:\\Users\\nikit\\anaconda3\\lib\\site-packages\\tensorflow\\python\\ops\\init_ops.py:1251: calling VarianceScaling.__init__ (from tensorflow.python.ops.init_ops) with dtype is deprecated and will be removed in a future version.\n",
      "Instructions for updating:\n",
      "Call initializer instance with the dtype argument instead of passing it to the constructor\n",
      "Model: \"sequential\"\n",
      "_________________________________________________________________\n",
      "Layer (type)                 Output Shape              Param #   \n",
      "=================================================================\n",
      "conv2d (Conv2D)              (None, 32, 32, 64)        19264     \n",
      "_________________________________________________________________\n",
      "max_pooling2d (MaxPooling2D) (None, 16, 16, 64)        0         \n",
      "_________________________________________________________________\n",
      "conv2d_1 (Conv2D)            (None, 16, 16, 128)       204928    \n",
      "_________________________________________________________________\n",
      "max_pooling2d_1 (MaxPooling2 (None, 8, 8, 128)         0         \n",
      "_________________________________________________________________\n",
      "flatten (Flatten)            (None, 8192)              0         \n",
      "_________________________________________________________________\n",
      "dense (Dense)                (None, 256)               2097408   \n",
      "_________________________________________________________________\n",
      "dense_1 (Dense)              (None, 54)                13878     \n",
      "_________________________________________________________________\n",
      "dense_2 (Dense)              (None, 2)                 110       \n",
      "=================================================================\n",
      "Total params: 2,335,588\n",
      "Trainable params: 2,335,588\n",
      "Non-trainable params: 0\n",
      "_________________________________________________________________\n",
      "None\n",
      "Train on 19634 samples, validate on 2203 samples\n",
      "Epoch 1/20\n",
      "19634/19634 [==============================] - 5s 238us/sample - loss: 0.6518 - sparse_categorical_accuracy: 0.6155 - val_loss: 0.6292 - val_sparse_categorical_accuracy: 0.6360\n",
      "Epoch 2/20\n",
      "19634/19634 [==============================] - 2s 100us/sample - loss: 0.5871 - sparse_categorical_accuracy: 0.6908 - val_loss: 0.6308 - val_sparse_categorical_accuracy: 0.6668\n",
      "Epoch 3/20\n",
      "19634/19634 [==============================] - 2s 100us/sample - loss: 0.5586 - sparse_categorical_accuracy: 0.7169 - val_loss: 0.6295 - val_sparse_categorical_accuracy: 0.6496\n",
      "Epoch 4/20\n",
      "19634/19634 [==============================] - 2s 102us/sample - loss: 0.5438 - sparse_categorical_accuracy: 0.7276 - val_loss: 0.6164 - val_sparse_categorical_accuracy: 0.6827\n",
      "Epoch 5/20\n",
      "19634/19634 [==============================] - 2s 98us/sample - loss: 0.5315 - sparse_categorical_accuracy: 0.7366 - val_loss: 0.6514 - val_sparse_categorical_accuracy: 0.6409\n",
      "Epoch 6/20\n",
      "19634/19634 [==============================] - 2s 99us/sample - loss: 0.5242 - sparse_categorical_accuracy: 0.7397 - val_loss: 0.5947 - val_sparse_categorical_accuracy: 0.6950\n",
      "Epoch 7/20\n",
      "19634/19634 [==============================] - 2s 97us/sample - loss: 0.5065 - sparse_categorical_accuracy: 0.7567 - val_loss: 0.6092 - val_sparse_categorical_accuracy: 0.6704\n",
      "Epoch 8/20\n",
      "19634/19634 [==============================] - 2s 101us/sample - loss: 0.4800 - sparse_categorical_accuracy: 0.7742 - val_loss: 0.6146 - val_sparse_categorical_accuracy: 0.6941\n",
      "Epoch 9/20\n",
      "19634/19634 [==============================] - 2s 102us/sample - loss: 0.4613 - sparse_categorical_accuracy: 0.7861 - val_loss: 0.6380 - val_sparse_categorical_accuracy: 0.6909\n",
      "Epoch 10/20\n",
      "19634/19634 [==============================] - 2s 101us/sample - loss: 0.4366 - sparse_categorical_accuracy: 0.8013 - val_loss: 0.6548 - val_sparse_categorical_accuracy: 0.6909\n",
      "Epoch 11/20\n",
      "19634/19634 [==============================] - 2s 109us/sample - loss: 0.4128 - sparse_categorical_accuracy: 0.8170 - val_loss: 0.6752 - val_sparse_categorical_accuracy: 0.6941\n",
      "Epoch 12/20\n",
      "19634/19634 [==============================] - 2s 107us/sample - loss: 0.3836 - sparse_categorical_accuracy: 0.8305 - val_loss: 0.7306 - val_sparse_categorical_accuracy: 0.6909\n",
      "Epoch 13/20\n",
      "19634/19634 [==============================] - 2s 100us/sample - loss: 0.3481 - sparse_categorical_accuracy: 0.8474 - val_loss: 0.7571 - val_sparse_categorical_accuracy: 0.6804\n",
      "Epoch 14/20\n",
      "19634/19634 [==============================] - 2s 100us/sample - loss: 0.3234 - sparse_categorical_accuracy: 0.8637 - val_loss: 0.7905 - val_sparse_categorical_accuracy: 0.6904\n",
      "Epoch 15/20\n",
      "19634/19634 [==============================] - 2s 104us/sample - loss: 0.2872 - sparse_categorical_accuracy: 0.8802 - val_loss: 0.8603 - val_sparse_categorical_accuracy: 0.6773\n",
      "Epoch 16/20\n",
      "19634/19634 [==============================] - 2s 103us/sample - loss: 0.2541 - sparse_categorical_accuracy: 0.8966 - val_loss: 1.0010 - val_sparse_categorical_accuracy: 0.6655\n",
      "Epoch 17/20\n",
      "19634/19634 [==============================] - 2s 104us/sample - loss: 0.2344 - sparse_categorical_accuracy: 0.9058 - val_loss: 1.0388 - val_sparse_categorical_accuracy: 0.6809\n",
      "Epoch 18/20\n",
      "19634/19634 [==============================] - 2s 106us/sample - loss: 0.2005 - sparse_categorical_accuracy: 0.9212 - val_loss: 1.1070 - val_sparse_categorical_accuracy: 0.6591\n",
      "Epoch 19/20\n",
      "19634/19634 [==============================] - 2s 105us/sample - loss: 0.1638 - sparse_categorical_accuracy: 0.9363 - val_loss: 1.2269 - val_sparse_categorical_accuracy: 0.6609\n",
      "Epoch 20/20\n",
      "19634/19634 [==============================] - 2s 101us/sample - loss: 0.1552 - sparse_categorical_accuracy: 0.9402 - val_loss: 1.2223 - val_sparse_categorical_accuracy: 0.6686\n"
     ]
    }
   ],
   "source": [
    "\n",
    "# shape of the input images\n",
    "input_shape = (X_train_cwt.shape[1], X_train_cwt.shape[2], X_train_cwt.shape[3])\n",
    "\n",
    "# create cnn model\n",
    "cnn_model = build_cnn_model(\"relu\", input_shape)\n",
    "# train cnn model\n",
    "trained_cnn_model, cnn_history = compile_and_fit_model(cnn_model, X_train_cwt, y_train, X_test_cwt, y_test, 368, 20 )\n"
   ]
  },
  {
   "cell_type": "code",
   "execution_count": null,
   "metadata": {},
   "outputs": [],
   "source": [
    "\"\"\"\"def create_confusion_matrix(y_preda, y_testa):\n",
    "    # calculate the confusion matrix\n",
    "    confmat = metrics.confusion_matrix(y_true=y_testa, y_pred=y_preda)\n",
    "\n",
    "    fig, ax = plt.subplots(figsize=(7, 7))\n",
    "    ax.imshow(confmat, cmap=plt.cm.Blues, alpha=0.5)\n",
    "\n",
    "    n_labels = len(LABEL_NAMES)\n",
    "    ax.set_xticks(np.arange(n_labels))\n",
    "    ax.set_yticks(np.arange(n_labels))\n",
    "    ax.set_xticklabels(LABEL_NAMES)\n",
    "    ax.set_yticklabels(LABEL_NAMES)\n",
    "\n",
    "    # rotate the tick labels and set their alignment.\n",
    "    plt.setp(ax.get_xticklabels(), rotation=45, ha=\"right\", rotation_mode=\"anchor\")\n",
    "    # loop over data dimensions and create text annotations.\n",
    "    for i in range(confmat.shape[0]):\n",
    "        for j in range(confmat.shape[1]):\n",
    "            ax.text(x=i, y=j, s=confmat[i, j], va='center', ha='center')\n",
    "\n",
    "    # avoid that the first and last row cut in half\n",
    "    bottom, top = ax.get_ylim()\n",
    "    ax.set_ylim(bottom + 0.5, top - 0.5)\n",
    "\n",
    "    ax.set_title(\"Confusion Matrix\")\n",
    "    ax.set_xlabel('Predicted Label')\n",
    "    ax.set_ylabel('True Label')\n",
    "\n",
    "    plt.tight_layout()\n",
    "    plt.show()\"\"\""
   ]
  },
  {
   "cell_type": "code",
   "execution_count": 10,
   "metadata": {},
   "outputs": [
    {
     "name": "stdout",
     "output_type": "stream",
     "text": [
      "Accuracy: 66.86%\n"
     ]
    }
   ],
   "source": [
    "# make predictions for test data\n",
    "y_pred = trained_cnn_model.predict_classes(X_test_cwt)\n",
    "# determine the total accuracy\n",
    "accuracy = metrics.accuracy_score(y_test, y_pred)\n",
    "print(\"Accuracy: %.2f%%\" % (accuracy * 100.0))"
   ]
  },
  {
   "cell_type": "code",
   "execution_count": 11,
   "metadata": {},
   "outputs": [
    {
     "data": {
      "image/png": "[encoded data removed]",
      "text/plain": [
       "<Figure size 432x288 with 2 Axes>"
      ]
     },
     "metadata": {
      "needs_background": "light"
     },
     "output_type": "display_data"
    }
   ],
   "source": [
    "from sklearn.metrics import confusion_matrix\n",
    "from sklearn.metrics import ConfusionMatrixDisplay\n",
    "\n",
    "y_pred = trained_cnn_model.predict_classes(X_test_cwt)\n",
    "cm = confusion_matrix(y_test, y_pred)\n",
    "\n",
    "cm_display = ConfusionMatrixDisplay(cm).plot()"
   ]
  },
  {
   "cell_type": "code",
   "execution_count": 12,
   "metadata": {},
   "outputs": [
    {
     "data": {
      "image/png": "[encoded data removed]",
      "text/plain": [
       "<Figure size 432x288 with 1 Axes>"
      ]
     },
     "metadata": {
      "needs_background": "light"
     },
     "output_type": "display_data"
    }
   ],
   "source": [
    "import sklearn.metrics as metrics\n",
    "# calculate the fpr and tpr for all thresholds of the classification\n",
    "probs = trained_cnn_model.predict_proba(X_test_cwt)\n",
    "preds = probs[:,1]\n",
    "fpr, tpr, threshold = metrics.roc_curve(y_test, preds)\n",
    "roc_auc = metrics.auc(fpr, tpr)\n",
    "\n",
    "# method I: plt\n",
    "import matplotlib.pyplot as plt\n",
    "plt.title('Receiver Operating Characteristic')\n",
    "plt.plot(fpr, tpr, 'b', label = 'AUC = %0.2f' % roc_auc)\n",
    "plt.legend(loc = 'lower right')\n",
    "plt.plot([0, 1], [0, 1],'r--')\n",
    "plt.xlim([0, 1])\n",
    "plt.ylim([0, 1])\n",
    "plt.ylabel('True Positive Rate')\n",
    "plt.xlabel('False Positive Rate')\n",
    "plt.show()\n"
   ]
  },
  {
   "cell_type": "code",
   "execution_count": 13,
   "metadata": {},
   "outputs": [
    {
     "name": "stdout",
     "output_type": "stream",
     "text": [
      "Model: \"sequential_1\"\n",
      "_________________________________________________________________\n",
      "Layer (type)                 Output Shape              Param #   \n",
      "=================================================================\n",
      "conv2d_2 (Conv2D)            (None, 32, 32, 64)        19264     \n",
      "_________________________________________________________________\n",
      "max_pooling2d_2 (MaxPooling2 (None, 16, 16, 64)        0         \n",
      "_________________________________________________________________\n",
      "conv2d_3 (Conv2D)            (None, 16, 16, 128)       204928    \n",
      "_________________________________________________________________\n",
      "max_pooling2d_3 (MaxPooling2 (None, 8, 8, 128)         0         \n",
      "_________________________________________________________________\n",
      "flatten_1 (Flatten)          (None, 8192)              0         \n",
      "_________________________________________________________________\n",
      "dense_3 (Dense)              (None, 256)               2097408   \n",
      "_________________________________________________________________\n",
      "dense_4 (Dense)              (None, 54)                13878     \n",
      "_________________________________________________________________\n",
      "dense_5 (Dense)              (None, 2)                 110       \n",
      "=================================================================\n",
      "Total params: 2,335,588\n",
      "Trainable params: 2,335,588\n",
      "Non-trainable params: 0\n",
      "_________________________________________________________________\n",
      "None\n",
      "Train on 19634 samples, validate on 2203 samples\n",
      "Epoch 1/50\n",
      "19634/19634 [==============================] - 2s 115us/sample - loss: 0.6496 - sparse_categorical_accuracy: 0.6206 - val_loss: 0.6321 - val_sparse_categorical_accuracy: 0.6432\n",
      "Epoch 2/50\n",
      "19634/19634 [==============================] - 2s 99us/sample - loss: 0.5752 - sparse_categorical_accuracy: 0.7026 - val_loss: 0.6055 - val_sparse_categorical_accuracy: 0.6718\n",
      "Epoch 3/50\n",
      "19634/19634 [==============================] - 2s 100us/sample - loss: 0.5581 - sparse_categorical_accuracy: 0.7135 - val_loss: 0.5993 - val_sparse_categorical_accuracy: 0.6791\n",
      "Epoch 4/50\n",
      "19634/19634 [==============================] - 2s 98us/sample - loss: 0.5464 - sparse_categorical_accuracy: 0.7245 - val_loss: 0.6089 - val_sparse_categorical_accuracy: 0.6691\n",
      "Epoch 5/50\n",
      "19634/19634 [==============================] - 2s 101us/sample - loss: 0.5326 - sparse_categorical_accuracy: 0.7347 - val_loss: 0.5815 - val_sparse_categorical_accuracy: 0.7009\n",
      "Epoch 6/50\n",
      "19634/19634 [==============================] - 2s 98us/sample - loss: 0.5226 - sparse_categorical_accuracy: 0.7444 - val_loss: 0.5927 - val_sparse_categorical_accuracy: 0.6918\n",
      "Epoch 7/50\n",
      "19634/19634 [==============================] - 2s 102us/sample - loss: 0.5107 - sparse_categorical_accuracy: 0.7506 - val_loss: 0.5882 - val_sparse_categorical_accuracy: 0.7059\n",
      "Epoch 8/50\n",
      "19634/19634 [==============================] - 2s 103us/sample - loss: 0.4963 - sparse_categorical_accuracy: 0.7616 - val_loss: 0.6133 - val_sparse_categorical_accuracy: 0.6904\n",
      "Epoch 9/50\n",
      "19634/19634 [==============================] - 2s 100us/sample - loss: 0.4835 - sparse_categorical_accuracy: 0.7704 - val_loss: 0.6281 - val_sparse_categorical_accuracy: 0.6845\n",
      "Epoch 10/50\n",
      "19634/19634 [==============================] - 2s 102us/sample - loss: 0.4626 - sparse_categorical_accuracy: 0.7821 - val_loss: 0.6058 - val_sparse_categorical_accuracy: 0.7090\n",
      "Epoch 11/50\n",
      "19634/19634 [==============================] - 2s 99us/sample - loss: 0.4506 - sparse_categorical_accuracy: 0.7904 - val_loss: 0.6541 - val_sparse_categorical_accuracy: 0.6709\n",
      "Epoch 12/50\n",
      "19634/19634 [==============================] - 2s 99us/sample - loss: 0.4127 - sparse_categorical_accuracy: 0.8136 - val_loss: 0.6896 - val_sparse_categorical_accuracy: 0.6664\n",
      "Epoch 13/50\n",
      "19634/19634 [==============================] - 2s 99us/sample - loss: 0.3913 - sparse_categorical_accuracy: 0.8268 - val_loss: 0.6654 - val_sparse_categorical_accuracy: 0.6841\n",
      "Epoch 14/50\n",
      "19634/19634 [==============================] - 2s 101us/sample - loss: 0.3703 - sparse_categorical_accuracy: 0.8385 - val_loss: 0.7243 - val_sparse_categorical_accuracy: 0.6972\n",
      "Epoch 15/50\n",
      "19634/19634 [==============================] - 2s 99us/sample - loss: 0.3397 - sparse_categorical_accuracy: 0.8544 - val_loss: 0.8155 - val_sparse_categorical_accuracy: 0.6691\n",
      "Epoch 16/50\n",
      "19634/19634 [==============================] - 2s 99us/sample - loss: 0.3165 - sparse_categorical_accuracy: 0.8670 - val_loss: 0.9253 - val_sparse_categorical_accuracy: 0.6482\n",
      "Epoch 17/50\n",
      "19634/19634 [==============================] - 2s 99us/sample - loss: 0.2901 - sparse_categorical_accuracy: 0.8780 - val_loss: 0.9398 - val_sparse_categorical_accuracy: 0.6586\n",
      "Epoch 18/50\n",
      "19634/19634 [==============================] - 2s 99us/sample - loss: 0.2535 - sparse_categorical_accuracy: 0.8984 - val_loss: 0.9974 - val_sparse_categorical_accuracy: 0.6555\n",
      "Epoch 19/50\n",
      "19634/19634 [==============================] - 2s 99us/sample - loss: 0.2281 - sparse_categorical_accuracy: 0.9100 - val_loss: 1.0815 - val_sparse_categorical_accuracy: 0.6441\n",
      "Epoch 20/50\n",
      "19634/19634 [==============================] - 2s 99us/sample - loss: 0.2002 - sparse_categorical_accuracy: 0.9209 - val_loss: 1.2091 - val_sparse_categorical_accuracy: 0.6518\n",
      "Epoch 21/50\n",
      "19634/19634 [==============================] - 2s 99us/sample - loss: 0.1730 - sparse_categorical_accuracy: 0.9335 - val_loss: 1.2582 - val_sparse_categorical_accuracy: 0.6632\n",
      "Epoch 22/50\n",
      "19634/19634 [==============================] - 2s 100us/sample - loss: 0.1651 - sparse_categorical_accuracy: 0.9368 - val_loss: 1.2823 - val_sparse_categorical_accuracy: 0.6727\n",
      "Epoch 23/50\n",
      "19634/19634 [==============================] - 2s 99us/sample - loss: 0.1431 - sparse_categorical_accuracy: 0.9459 - val_loss: 1.4350 - val_sparse_categorical_accuracy: 0.65730.1433 - sparse_categorical_accuracy: 0.94\n",
      "Epoch 24/50\n",
      "19634/19634 [==============================] - 2s 99us/sample - loss: 0.1105 - sparse_categorical_accuracy: 0.9617 - val_loss: 1.5480 - val_sparse_categorical_accuracy: 0.6641\n",
      "Epoch 25/50\n",
      "19634/19634 [==============================] - 2s 99us/sample - loss: 0.1263 - sparse_categorical_accuracy: 0.9526 - val_loss: 1.6360 - val_sparse_categorical_accuracy: 0.6691\n",
      "Epoch 26/50\n",
      "19634/19634 [==============================] - 2s 99us/sample - loss: 0.1353 - sparse_categorical_accuracy: 0.9491 - val_loss: 1.6191 - val_sparse_categorical_accuracy: 0.6523\n",
      "Epoch 27/50\n",
      "19634/19634 [==============================] - 2s 99us/sample - loss: 0.0801 - sparse_categorical_accuracy: 0.9731 - val_loss: 1.6811 - val_sparse_categorical_accuracy: 0.6636\n",
      "Epoch 28/50\n",
      "19634/19634 [==============================] - 2s 102us/sample - loss: 0.0575 - sparse_categorical_accuracy: 0.9814 - val_loss: 1.8413 - val_sparse_categorical_accuracy: 0.6596\n",
      "Epoch 29/50\n",
      "19634/19634 [==============================] - 2s 101us/sample - loss: 0.0440 - sparse_categorical_accuracy: 0.9862 - val_loss: 2.0781 - val_sparse_categorical_accuracy: 0.6555\n",
      "Epoch 30/50\n",
      "19634/19634 [==============================] - 2s 100us/sample - loss: 0.0453 - sparse_categorical_accuracy: 0.9858 - val_loss: 2.0142 - val_sparse_categorical_accuracy: 0.6641\n",
      "Epoch 31/50\n",
      "19634/19634 [==============================] - 2s 100us/sample - loss: 0.0785 - sparse_categorical_accuracy: 0.9733 - val_loss: 2.0012 - val_sparse_categorical_accuracy: 0.6478\n",
      "Epoch 32/50\n",
      "19634/19634 [==============================] - 2s 100us/sample - loss: 0.0663 - sparse_categorical_accuracy: 0.9752 - val_loss: 2.1004 - val_sparse_categorical_accuracy: 0.6577\n",
      "Epoch 33/50\n",
      "19634/19634 [==============================] - 2s 100us/sample - loss: 0.0523 - sparse_categorical_accuracy: 0.9822 - val_loss: 2.1190 - val_sparse_categorical_accuracy: 0.6641\n",
      "Epoch 34/50\n",
      "19634/19634 [==============================] - 2s 100us/sample - loss: 0.0513 - sparse_categorical_accuracy: 0.9825 - val_loss: 2.3116 - val_sparse_categorical_accuracy: 0.6659\n",
      "Epoch 35/50\n",
      "19634/19634 [==============================] - 2s 100us/sample - loss: 0.0295 - sparse_categorical_accuracy: 0.9912 - val_loss: 2.5887 - val_sparse_categorical_accuracy: 0.6500\n",
      "Epoch 36/50\n",
      "19634/19634 [==============================] - 2s 100us/sample - loss: 0.0486 - sparse_categorical_accuracy: 0.9830 - val_loss: 2.1450 - val_sparse_categorical_accuracy: 0.6645\n",
      "Epoch 37/50\n",
      "19634/19634 [==============================] - 2s 104us/sample - loss: 0.0418 - sparse_categorical_accuracy: 0.9857 - val_loss: 2.3341 - val_sparse_categorical_accuracy: 0.6573\n",
      "Epoch 38/50\n",
      "19634/19634 [==============================] - 2s 102us/sample - loss: 0.0248 - sparse_categorical_accuracy: 0.9920 - val_loss: 2.6499 - val_sparse_categorical_accuracy: 0.6541\n",
      "Epoch 39/50\n",
      "19634/19634 [==============================] - 2s 99us/sample - loss: 0.0312 - sparse_categorical_accuracy: 0.9897 - val_loss: 2.4103 - val_sparse_categorical_accuracy: 0.6577\n",
      "Epoch 40/50\n",
      "19634/19634 [==============================] - 2s 100us/sample - loss: 0.0379 - sparse_categorical_accuracy: 0.9869 - val_loss: 2.4229 - val_sparse_categorical_accuracy: 0.6523\n",
      "Epoch 41/50\n",
      "19634/19634 [==============================] - 2s 102us/sample - loss: 0.0449 - sparse_categorical_accuracy: 0.9856 - val_loss: 2.1866 - val_sparse_categorical_accuracy: 0.6527\n",
      "Epoch 42/50\n",
      "19634/19634 [==============================] - 2s 100us/sample - loss: 0.0329 - sparse_categorical_accuracy: 0.9888 - val_loss: 2.4858 - val_sparse_categorical_accuracy: 0.6550\n",
      "Epoch 43/50\n",
      "19634/19634 [==============================] - 2s 100us/sample - loss: 0.0192 - sparse_categorical_accuracy: 0.9939 - val_loss: 2.5011 - val_sparse_categorical_accuracy: 0.6691\n",
      "Epoch 44/50\n",
      "19634/19634 [==============================] - 2s 100us/sample - loss: 0.0201 - sparse_categorical_accuracy: 0.9942 - val_loss: 2.5851 - val_sparse_categorical_accuracy: 0.6600\n",
      "Epoch 45/50\n",
      "19634/19634 [==============================] - 2s 100us/sample - loss: 0.0169 - sparse_categorical_accuracy: 0.9952 - val_loss: 2.8601 - val_sparse_categorical_accuracy: 0.6546\n",
      "Epoch 46/50\n",
      "19634/19634 [==============================] - 2s 100us/sample - loss: 0.0281 - sparse_categorical_accuracy: 0.9914 - val_loss: 2.7263 - val_sparse_categorical_accuracy: 0.6641\n",
      "Epoch 47/50\n",
      "19634/19634 [==============================] - 2s 100us/sample - loss: 0.0316 - sparse_categorical_accuracy: 0.9887 - val_loss: 2.8725 - val_sparse_categorical_accuracy: 0.6505\n",
      "Epoch 48/50\n",
      "19634/19634 [==============================] - 2s 100us/sample - loss: 0.0270 - sparse_categorical_accuracy: 0.9908 - val_loss: 2.6314 - val_sparse_categorical_accuracy: 0.6478\n",
      "Epoch 49/50\n",
      "19634/19634 [==============================] - 2s 100us/sample - loss: 0.0451 - sparse_categorical_accuracy: 0.9849 - val_loss: 2.5948 - val_sparse_categorical_accuracy: 0.6423\n",
      "Epoch 50/50\n",
      "19634/19634 [==============================] - 2s 103us/sample - loss: 0.0208 - sparse_categorical_accuracy: 0.9936 - val_loss: 2.7518 - val_sparse_categorical_accuracy: 0.6641\n"
     ]
    }
   ],
   "source": [
    "# shape of the input images\n",
    "input_shape = (X_train_cwt.shape[1], X_train_cwt.shape[2], X_train_cwt.shape[3])\n",
    "\n",
    "# create cnn model\n",
    "cnn_model = build_cnn_model(\"relu\", input_shape)\n",
    "# train cnn model\n",
    "trained_cnn_model, cnn_history = compile_and_fit_model(cnn_model, X_train_cwt, y_train, X_test_cwt, y_test, 368, 50 )\n"
   ]
  },
  {
   "cell_type": "code",
   "execution_count": 17,
   "metadata": {},
   "outputs": [
    {
     "name": "stdout",
     "output_type": "stream",
     "text": [
      "Accuracy: 66.41%\n"
     ]
    }
   ],
   "source": [
    "# make predictions for test data\n",
    "y_pred = trained_cnn_model.predict_classes(X_test_cwt)\n",
    "# determine the total accuracy\n",
    "accuracy = metrics.accuracy_score(y_test, y_pred)\n",
    "print(\"Accuracy: %.2f%%\" % (accuracy * 100.0))"
   ]
  },
  {
   "cell_type": "code",
   "execution_count": 18,
   "metadata": {},
   "outputs": [
    {
     "data": {
      "image/png": "[encoded data removed]",
      "text/plain": [
       "<Figure size 432x288 with 2 Axes>"
      ]
     },
     "metadata": {
      "needs_background": "light"
     },
     "output_type": "display_data"
    }
   ],
   "source": [
    "from sklearn.metrics import confusion_matrix\n",
    "from sklearn.metrics import ConfusionMatrixDisplay\n",
    "\n",
    "y_pred = trained_cnn_model.predict_classes(X_test_cwt)\n",
    "cm = confusion_matrix(y_test, y_pred)\n",
    "\n",
    "cm_display = ConfusionMatrixDisplay(cm).plot()"
   ]
  },
  {
   "cell_type": "code",
   "execution_count": 19,
   "metadata": {},
   "outputs": [
    {
     "data": {
      "image/png": "[encoded data removed]",
      "text/plain": [
       "<Figure size 432x288 with 1 Axes>"
      ]
     },
     "metadata": {
      "needs_background": "light"
     },
     "output_type": "display_data"
    }
   ],
   "source": [
    "import sklearn.metrics as metrics\n",
    "# calculate the fpr and tpr for all thresholds of the classification\n",
    "probs = trained_cnn_model.predict_proba(X_test_cwt)\n",
    "preds = probs[:,1]\n",
    "fpr, tpr, threshold = metrics.roc_curve(y_test, preds)\n",
    "roc_auc = metrics.auc(fpr, tpr)\n",
    "\n",
    "# method I: plt\n",
    "import matplotlib.pyplot as plt\n",
    "plt.title('Receiver Operating Characteristic')\n",
    "plt.plot(fpr, tpr, 'b', label = 'AUC = %0.2f' % roc_auc)\n",
    "plt.legend(loc = 'lower right')\n",
    "plt.plot([0, 1], [0, 1],'r--')\n",
    "plt.xlim([0, 1])\n",
    "plt.ylim([0, 1])\n",
    "plt.ylabel('True Positive Rate')\n",
    "plt.xlabel('False Positive Rate')\n",
    "plt.show()\n"
   ]
  },
  {
   "cell_type": "code",
   "execution_count": null,
   "metadata": {},
   "outputs": [],
   "source": []
  }
 ],
 "metadata": {
  "kernelspec": {
   "display_name": "Python 3",
   "language": "python",
   "name": "python3"
  },
  "language_info": {
   "codemirror_mode": {
    "name": "ipython",
    "version": 3
   },
   "file_extension": ".py",
   "mimetype": "text/x-python",
   "name": "python",
   "nbconvert_exporter": "python",
   "pygments_lexer": "ipython3",
   "version": "3.7.9"
  }
 },
 "nbformat": 4,
 "nbformat_minor": 4
}
